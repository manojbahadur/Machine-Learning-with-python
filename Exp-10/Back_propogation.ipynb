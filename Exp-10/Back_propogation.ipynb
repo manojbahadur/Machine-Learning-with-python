{
 "cells": [
  {
   "cell_type": "markdown",
   "id": "11a553dc",
   "metadata": {},
   "source": [
    "# Back Propogation"
   ]
  },
  {
   "cell_type": "code",
   "execution_count": 49,
   "id": "c8425b37",
   "metadata": {},
   "outputs": [],
   "source": [
    "import numpy as np"
   ]
  },
  {
   "cell_type": "code",
   "execution_count": 50,
   "id": "b1d9f451",
   "metadata": {},
   "outputs": [],
   "source": [
    "x = np.array(([2,9],[1,5],[3,6]),dtype=float)\n",
    "y = np.array(([92],[86],[89]),dtype=float)\n",
    "x = x/np.amax(x,axis=0)\n",
    "y = y/100"
   ]
  },
  {
   "cell_type": "code",
   "execution_count": 51,
   "id": "19c1cecd",
   "metadata": {},
   "outputs": [],
   "source": [
    "#sigmoid function\n",
    "def sigmoid(x):\n",
    "    return 1/(1+np.exp(-x))"
   ]
  },
  {
   "cell_type": "code",
   "execution_count": 52,
   "id": "473020fd",
   "metadata": {},
   "outputs": [],
   "source": [
    "#derivative of sigmoid function\n",
    "def derivative_sigmoid(x):\n",
    "    return x*(1-x)"
   ]
  },
  {
   "cell_type": "code",
   "execution_count": 53,
   "id": "afa0a3a2",
   "metadata": {},
   "outputs": [],
   "source": [
    "#variable initialization\n",
    "epoch = 10000\n",
    "ir = 0.1\n",
    "inputlayer_newrons = 2\n",
    "hiddenlayer_newrons= 3\n",
    "output_newrons = 1"
   ]
  },
  {
   "cell_type": "code",
   "execution_count": 54,
   "id": "4d758e25",
   "metadata": {},
   "outputs": [],
   "source": [
    "#weights from input to hidden nodes\n",
    "wh = np.random.uniform(size=(inputlayer_newrons,hiddenlayer_newrons))\n",
    "\n",
    "#bias from input to hidden nodes\n",
    "bh = np.random.uniform(size=(1,hiddenlayer_newrons))\n",
    "\n",
    "#weights from hidden to output nodes\n",
    "wout = np.random.uniform(size=(hiddenlayer_newrons,output_newrons))\n",
    "\n",
    "#bias from hidden to output nodes\n",
    "bout = np.random.uniform(size=(1,output_newrons))"
   ]
  },
  {
   "cell_type": "code",
   "execution_count": 55,
   "id": "9d07aca0",
   "metadata": {},
   "outputs": [
    {
     "name": "stdout",
     "output_type": "stream",
     "text": [
      "Inputs: \n",
      " [[0.66666667 1.        ]\n",
      " [0.33333333 0.55555556]\n",
      " [1.         0.66666667]]\n",
      "\n",
      "Actual Output:\n",
      " [[0.92]\n",
      " [0.86]\n",
      " [0.89]]\n"
     ]
    }
   ],
   "source": [
    "for i in range(epoch):\n",
    "    #forward propogation\n",
    "    hinp1 = np.dot(x,wh)\n",
    "    hinp = hinp1 + bh\n",
    "    hlayer_act = sigmoid(hinp)\n",
    "    outinp1 = np.dot(hlayer_act,wout)\n",
    "    outinp = outinp1 + bout\n",
    "    output = sigmoid(outinp)\n",
    "    #backward propogation\n",
    "    EO = y-output\n",
    "    outgrad = derivative_sigmoid(output)\n",
    "    d_output = EO*outgrad\n",
    "    EH = d_output.dot(wout.T)\n",
    "    #how much hidden layer weights contribute to the error\n",
    "    hiddengrad = derivative_sigmoid(hlayer_act)\n",
    "    d_hiddenlayer = EH * hiddengrad\n",
    "    \n",
    "wout += hlayer_act.T.dot(d_output) * ir\n",
    "wh += x.T.dot(d_hiddenlayer) * ir\n",
    "\n",
    "print(\"Inputs: \\n\",str(x))\n",
    "print(\"\\nActual Output:\\n\",str(y))"
   ]
  },
  {
   "cell_type": "code",
   "execution_count": 56,
   "id": "be528cca",
   "metadata": {},
   "outputs": [
    {
     "name": "stdout",
     "output_type": "stream",
     "text": [
      "Predicted output:\n",
      " [[0.9167177 ]\n",
      " [0.90659112]\n",
      " [0.91987882]]\n"
     ]
    }
   ],
   "source": [
    "print(\"Predicted output:\\n\",output)"
   ]
  },
  {
   "cell_type": "code",
   "execution_count": null,
   "id": "5d62f414",
   "metadata": {},
   "outputs": [],
   "source": []
  },
  {
   "cell_type": "code",
   "execution_count": null,
   "id": "9fa96d44",
   "metadata": {},
   "outputs": [],
   "source": []
  },
  {
   "cell_type": "code",
   "execution_count": null,
   "id": "2dcd933d",
   "metadata": {},
   "outputs": [],
   "source": []
  }
 ],
 "metadata": {
  "kernelspec": {
   "display_name": "Python 3 (ipykernel)",
   "language": "python",
   "name": "python3"
  },
  "language_info": {
   "codemirror_mode": {
    "name": "ipython",
    "version": 3
   },
   "file_extension": ".py",
   "mimetype": "text/x-python",
   "name": "python",
   "nbconvert_exporter": "python",
   "pygments_lexer": "ipython3",
   "version": "3.8.8"
  }
 },
 "nbformat": 4,
 "nbformat_minor": 5
}
