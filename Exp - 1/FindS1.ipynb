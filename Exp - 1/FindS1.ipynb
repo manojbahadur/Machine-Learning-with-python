{
 "cells": [
  {
   "cell_type": "markdown",
   "metadata": {},
   "source": [
    "# FIND-S Algorithm:"
   ]
  },
  {
   "cell_type": "markdown",
   "metadata": {},
   "source": [
    "Implement and demonstrate the FIND-S algorithm for finding the most specific hypothesis based on a given set of training data samples. Read the training data from a .CSV file."
   ]
  },
  {
   "cell_type": "code",
   "execution_count": 4,
   "metadata": {},
   "outputs": [
    {
     "name": "stdout",
     "output_type": "stream",
     "text": [
      "Specific hypothesis of file-finds.csv\n",
      "-> ['sunny' 'warm' '?' 'strong' '?' '?']\n",
      "Instance Space is->  32\n",
      "Hypothesis Space is->  3072\n",
      "\n",
      "Specific hypothesis of file-finds1.csv\n",
      "-> ['many' '?' 'no' '?' '?']\n",
      "Instance Space is->  72\n",
      "Hypothesis Space is->  1600\n",
      "\n",
      "Specific hypothesis of file-finds2.csv\n",
      "-> ['?' '?' 'circle' '?' 'yes']\n",
      "Instance Space is->  48\n",
      "Hypothesis Space is->  1280\n",
      "\n"
     ]
    }
   ],
   "source": [
    "import pandas as pd\n",
    "import numpy as np\n",
    "from collections import Counter\n",
    "\n",
    "#caluculate specific hypothesis\n",
    "def find_s(c,t):\n",
    "    for i,var in enumerate(t):\n",
    "        if var=='yes':\n",
    "            specific_hy = c[i].copy()\n",
    "            break;\n",
    "    for i,var in enumerate(c):\n",
    "        if t[i]=='yes':\n",
    "            for x in range(len(specific_hy)):\n",
    "                if var[x] != specific_hy[x]:\n",
    "                    specific_hy[x] = '?'\n",
    "    return specific_hy   \n",
    "\n",
    "#calculate instance space and hypothesis space\n",
    "def inst_hypo(c):\n",
    "    ins = 1\n",
    "    hyp = 1\n",
    "    for i in range(len(c[0,:])):\n",
    "        ins *= len(Counter(c[:,i]).keys())\n",
    "        #print(Counter(c[:,i]).keys(),ins)\n",
    "        hyp *= (len(Counter(c[:,i]).keys())+2)\n",
    "        #print(hyp)\n",
    "    return ins,hyp\n",
    "    \n",
    "file = [\"finds.csv\",\"finds1.csv\",\"finds2.csv\"]\n",
    "for i in file:\n",
    "    data = pd.read_csv(i)\n",
    "    concepts = np.array(data)[:,:-1]\n",
    "    target = np.array(data)[:,-1]\n",
    "    print(\"Specific hypothesis of file-{}\\n-> {}\".format(i,find_s(concepts,target)))\n",
    "    i,h = inst_hypo(concepts)\n",
    "    print(\"Instance Space is-> \",i)\n",
    "    print(\"Hypothesis Space is-> \",h)\n",
    "    print()\n"
   ]
  },
  {
   "cell_type": "code",
   "execution_count": null,
   "metadata": {},
   "outputs": [],
   "source": []
  }
 ],
 "metadata": {
  "kernelspec": {
   "display_name": "Python 3 (ipykernel)",
   "language": "python",
   "name": "python3"
  },
  "language_info": {
   "codemirror_mode": {
    "name": "ipython",
    "version": 3
   },
   "file_extension": ".py",
   "mimetype": "text/x-python",
   "name": "python",
   "nbconvert_exporter": "python",
   "pygments_lexer": "ipython3",
   "version": "3.8.8"
  }
 },
 "nbformat": 4,
 "nbformat_minor": 2
}
