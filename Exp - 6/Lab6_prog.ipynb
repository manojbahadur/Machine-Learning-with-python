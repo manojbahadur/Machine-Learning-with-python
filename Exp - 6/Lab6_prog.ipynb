{
 "cells": [
  {
   "cell_type": "markdown",
   "id": "446a20ca",
   "metadata": {},
   "source": [
    "# Regression Algorithm"
   ]
  },
  {
   "cell_type": "markdown",
   "id": "143d9394",
   "metadata": {},
   "source": [
    "Implement the non-parametric locally weighted regression algorithm in order to fit data points. Select appropriate data set for your experience and draw graphs."
   ]
  },
  {
   "cell_type": "code",
   "execution_count": 15,
   "id": "7c25e063",
   "metadata": {},
   "outputs": [],
   "source": [
    "import matplotlib.pyplot as plt\n",
    "import pandas as pd\n",
    "import numpy as np"
   ]
  },
  {
   "cell_type": "code",
   "execution_count": 27,
   "id": "d42be2f7",
   "metadata": {},
   "outputs": [],
   "source": [
    "def kernel(point,xmat,k):\n",
    "    m,n = np.shape(xmat)\n",
    "    weights = np.mat(np.eye((m)))\n",
    "    for j in range(m):\n",
    "        diff = point - X[j]\n",
    "        weights[j,j] = np.exp(diff*diff.T / (-2.0*k**2))\n",
    "    return weights"
   ]
  },
  {
   "cell_type": "code",
   "execution_count": 28,
   "id": "eb430d3f",
   "metadata": {},
   "outputs": [],
   "source": [
    "def localWeight(point,xmat,ymat,k):\n",
    "    wei = kernel(point,xmat,k)\n",
    "    w = (X.T*(wei*X)).I*(X.T*(wei*ymat.T))\n",
    "    return w"
   ]
  },
  {
   "cell_type": "code",
   "execution_count": 29,
   "id": "6abec1b1",
   "metadata": {},
   "outputs": [],
   "source": [
    "def localWeightRegression(xmat,ymat,k):\n",
    "    m,n = np.shape(xmat)\n",
    "    ypred = np.zeros(m)\n",
    "    for i in range(m):\n",
    "        ypred[i] = xmat[i]*localWeight(xmat[i],xmat,ymat,k)\n",
    "    return ypred"
   ]
  },
  {
   "cell_type": "code",
   "execution_count": 30,
   "id": "0cbcc454",
   "metadata": {
    "scrolled": true
   },
   "outputs": [],
   "source": [
    "data = pd.read_csv('lab6.csv')\n",
    "bill = np.array(data.total_bill)\n",
    "tip = np.array(data.tip)"
   ]
  },
  {
   "cell_type": "code",
   "execution_count": 31,
   "id": "e8b0ac8f",
   "metadata": {},
   "outputs": [],
   "source": [
    "mbill = np.mat(bill)\n",
    "mtip = np.mat(tip)\n",
    "m = np.shape(mbill)[1]\n",
    "one = np.mat(np.ones(m))\n",
    "X = np.hstack((one.T,mbill.T))"
   ]
  },
  {
   "cell_type": "code",
   "execution_count": 32,
   "id": "afd8921f",
   "metadata": {},
   "outputs": [],
   "source": [
    "ypred = localWeightRegression(X,mtip,2)\n",
    "sortIndex = X[:,-1].argsort(0)\n",
    "xsort = X[sortIndex][:,0]"
   ]
  },
  {
   "cell_type": "code",
   "execution_count": 33,
   "id": "f9aaa75b",
   "metadata": {},
   "outputs": [
    {
     "data": {
      "text/plain": [
       "Text(0, 0.5, 'Tip')"
      ]
     },
     "execution_count": 33,
     "metadata": {},
     "output_type": "execute_result"
    },
    {
     "data": {
      "image/png": "[encoded data removed]",
      "text/plain": [
       "<Figure size 432x288 with 1 Axes>"
      ]
     },
     "metadata": {
      "needs_background": "light"
     },
     "output_type": "display_data"
    }
   ],
   "source": [
    "fig = plt.figure()\n",
    "ax = fig.add_subplot(1,1,1)\n",
    "ax.scatter(bill,tip,color='green')\n",
    "ax.plot(xsort[:,1],ypred[sortIndex],color='red',linewidth=1)\n",
    "plt.xlabel('Total Bill')\n",
    "plt.ylabel('Tip')\n",
    "#plt.show()"
   ]
  },
  {
   "cell_type": "code",
   "execution_count": null,
   "id": "9c3e08cb",
   "metadata": {},
   "outputs": [],
   "source": []
  }
 ],
 "metadata": {
  "kernelspec": {
   "display_name": "Python 3 (ipykernel)",
   "language": "python",
   "name": "python3"
  },
  "language_info": {
   "codemirror_mode": {
    "name": "ipython",
    "version": 3
   },
   "file_extension": ".py",
   "mimetype": "text/x-python",
   "name": "python",
   "nbconvert_exporter": "python",
   "pygments_lexer": "ipython3",
   "version": "3.8.8"
  }
 },
 "nbformat": 4,
 "nbformat_minor": 5
}
